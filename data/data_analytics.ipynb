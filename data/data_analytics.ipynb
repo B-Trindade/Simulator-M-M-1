{
 "cells": [
  {
   "cell_type": "code",
   "execution_count": 69,
   "metadata": {},
   "outputs": [],
   "source": [
    "import pandas as pd\n",
    "import numpy as np"
   ]
  },
  {
   "cell_type": "code",
   "execution_count": 70,
   "metadata": {},
   "outputs": [
    {
     "name": "stderr",
     "output_type": "stream",
     "text": [
      "<ipython-input-70-7c0f2cde1a30>:1: ParserWarning: Falling back to the 'python' engine because the 'c' engine does not support regex separators (separators > 1 char and different from '\\s+' are interpreted as regex); you can avoid this warning by specifying engine='python'.\n",
      "  df = pd.read_csv('results_lcfs-400-0,6.csv',\n"
     ]
    }
   ],
   "source": [
    "df = pd.read_csv('results_lcfs-400-0,6.csv',\n",
    " delimiter=', ', header=None, names=['batch', 'E_W', 'E_Nq', 'E_Ns'], skiprows=1)"
   ]
  },
  {
   "cell_type": "code",
   "execution_count": 71,
   "metadata": {},
   "outputs": [],
   "source": [
    "df['E_W'] = df['E_W'].map(lambda x: float(x))\n",
    "df['E_Nq'] = df['E_Nq'].map(lambda x: float(x))\n",
    "df['E_Ns'] = df['E_Ns'].map(lambda x: float(x))\n"
   ]
  },
  {
   "cell_type": "code",
   "execution_count": 72,
   "metadata": {},
   "outputs": [
    {
     "data": {
      "text/html": [
       "<div>\n",
       "<style scoped>\n",
       "    .dataframe tbody tr th:only-of-type {\n",
       "        vertical-align: middle;\n",
       "    }\n",
       "\n",
       "    .dataframe tbody tr th {\n",
       "        vertical-align: top;\n",
       "    }\n",
       "\n",
       "    .dataframe thead th {\n",
       "        text-align: right;\n",
       "    }\n",
       "</style>\n",
       "<table border=\"1\" class=\"dataframe\">\n",
       "  <thead>\n",
       "    <tr style=\"text-align: right;\">\n",
       "      <th></th>\n",
       "      <th>batch</th>\n",
       "      <th>E_W</th>\n",
       "      <th>E_Nq</th>\n",
       "      <th>E_Ns</th>\n",
       "    </tr>\n",
       "  </thead>\n",
       "  <tbody>\n",
       "    <tr>\n",
       "      <th>0</th>\n",
       "      <td>1</td>\n",
       "      <td>1.397227</td>\n",
       "      <td>0.7825</td>\n",
       "      <td>0.5700</td>\n",
       "    </tr>\n",
       "    <tr>\n",
       "      <th>1</th>\n",
       "      <td>2</td>\n",
       "      <td>1.391152</td>\n",
       "      <td>0.8975</td>\n",
       "      <td>0.5150</td>\n",
       "    </tr>\n",
       "    <tr>\n",
       "      <th>2</th>\n",
       "      <td>3</td>\n",
       "      <td>1.973299</td>\n",
       "      <td>1.2775</td>\n",
       "      <td>0.6600</td>\n",
       "    </tr>\n",
       "    <tr>\n",
       "      <th>3</th>\n",
       "      <td>4</td>\n",
       "      <td>2.112897</td>\n",
       "      <td>1.5325</td>\n",
       "      <td>0.6900</td>\n",
       "    </tr>\n",
       "    <tr>\n",
       "      <th>4</th>\n",
       "      <td>5</td>\n",
       "      <td>1.567703</td>\n",
       "      <td>1.0100</td>\n",
       "      <td>0.6050</td>\n",
       "    </tr>\n",
       "    <tr>\n",
       "      <th>...</th>\n",
       "      <td>...</td>\n",
       "      <td>...</td>\n",
       "      <td>...</td>\n",
       "      <td>...</td>\n",
       "    </tr>\n",
       "    <tr>\n",
       "      <th>3195</th>\n",
       "      <td>3196</td>\n",
       "      <td>1.667221</td>\n",
       "      <td>1.2375</td>\n",
       "      <td>0.6125</td>\n",
       "    </tr>\n",
       "    <tr>\n",
       "      <th>3196</th>\n",
       "      <td>3197</td>\n",
       "      <td>1.418193</td>\n",
       "      <td>0.9000</td>\n",
       "      <td>0.6250</td>\n",
       "    </tr>\n",
       "    <tr>\n",
       "      <th>3197</th>\n",
       "      <td>3198</td>\n",
       "      <td>1.224724</td>\n",
       "      <td>0.6825</td>\n",
       "      <td>0.6025</td>\n",
       "    </tr>\n",
       "    <tr>\n",
       "      <th>3198</th>\n",
       "      <td>3199</td>\n",
       "      <td>1.338024</td>\n",
       "      <td>0.7775</td>\n",
       "      <td>0.6300</td>\n",
       "    </tr>\n",
       "    <tr>\n",
       "      <th>3199</th>\n",
       "      <td>3200</td>\n",
       "      <td>1.622891</td>\n",
       "      <td>1.0550</td>\n",
       "      <td>0.6075</td>\n",
       "    </tr>\n",
       "  </tbody>\n",
       "</table>\n",
       "<p>3200 rows × 4 columns</p>\n",
       "</div>"
      ],
      "text/plain": [
       "      batch       E_W    E_Nq    E_Ns\n",
       "0         1  1.397227  0.7825  0.5700\n",
       "1         2  1.391152  0.8975  0.5150\n",
       "2         3  1.973299  1.2775  0.6600\n",
       "3         4  2.112897  1.5325  0.6900\n",
       "4         5  1.567703  1.0100  0.6050\n",
       "...     ...       ...     ...     ...\n",
       "3195   3196  1.667221  1.2375  0.6125\n",
       "3196   3197  1.418193  0.9000  0.6250\n",
       "3197   3198  1.224724  0.6825  0.6025\n",
       "3198   3199  1.338024  0.7775  0.6300\n",
       "3199   3200  1.622891  1.0550  0.6075\n",
       "\n",
       "[3200 rows x 4 columns]"
      ]
     },
     "execution_count": 72,
     "metadata": {},
     "output_type": "execute_result"
    }
   ],
   "source": [
    "df"
   ]
  },
  {
   "cell_type": "code",
   "execution_count": 73,
   "metadata": {},
   "outputs": [
    {
     "data": {
      "text/plain": [
       "[1.4663353025715906, 0.89627109375, 0.59904609375]"
      ]
     },
     "execution_count": 73,
     "metadata": {},
     "output_type": "execute_result"
    }
   ],
   "source": [
    "avgs = []\n",
    "avgs.append(df['E_W'].mean())\n",
    "avgs.append(df['E_Nq'].mean())\n",
    "avgs.append(df['E_Ns'].mean())\n",
    "avgs"
   ]
  },
  {
   "cell_type": "code",
   "execution_count": 74,
   "metadata": {},
   "outputs": [],
   "source": [
    "soma = np.array([0, 0])\n",
    "for index, row in df.iterrows():\n",
    "    soma[0] += (row['E_W'] - avgs[0])**2\n",
    "    soma[1] += (row['E_Nq'] - avgs[1])**2\n",
    "var = soma * 1/(len(df) - 1)"
   ]
  },
  {
   "cell_type": "code",
   "execution_count": 75,
   "metadata": {},
   "outputs": [],
   "source": [
    "from math import sqrt\n",
    "width_ic = [sqrt(var[0])/sqrt(len(df)), sqrt(var[1])/sqrt(len(df))]\n",
    "IC_w = (avgs[0] - 1.96*width_ic[0], avgs[0] + 1.96*width_ic[0])\n",
    "IC_nq = (avgs[1] - 1.96*width_ic[1], avgs[1] + 1.96*width_ic[1])"
   ]
  },
  {
   "cell_type": "code",
   "execution_count": 76,
   "metadata": {},
   "outputs": [
    {
     "name": "stdout",
     "output_type": "stream",
     "text": [
      "IC de W: (1.45846636800006, 1.4742042371431212)\n",
      "IC de Nq: (0.8914087659178312, 0.9011334215821688)\n"
     ]
    }
   ],
   "source": [
    "print(f\"IC de W: {IC_w}\")\n",
    "print(f\"IC de Nq: {IC_nq}\")"
   ]
  },
  {
   "cell_type": "code",
   "execution_count": 77,
   "metadata": {},
   "outputs": [
    {
     "name": "stdout",
     "output_type": "stream",
     "text": [
      "W precision: 0.005366395092398324\n",
      "Nq precision: 0.005425063762599761\n"
     ]
    }
   ],
   "source": [
    "accuracy_w = (IC_w[1] - IC_w[0])/(IC_w[1] + IC_w[0])\n",
    "accuracy_nq = (IC_nq[1] - IC_nq[0])/(IC_nq[1] + IC_nq[0])\n",
    "\n",
    "print(f\"W precision: {accuracy_w}\\nNq precision: {accuracy_nq}\")"
   ]
  }
 ],
 "metadata": {
  "kernelspec": {
   "display_name": "Python 3.9.2 64-bit",
   "language": "python",
   "name": "python3"
  },
  "language_info": {
   "codemirror_mode": {
    "name": "ipython",
    "version": 3
   },
   "file_extension": ".py",
   "mimetype": "text/x-python",
   "name": "python",
   "nbconvert_exporter": "python",
   "pygments_lexer": "ipython3",
   "version": "3.9.2"
  },
  "orig_nbformat": 4,
  "vscode": {
   "interpreter": {
    "hash": "db27ec967b7890ef943434e5583fe1b2ac9bbb8a72dfe09d4fc2135c2140f530"
   }
  }
 },
 "nbformat": 4,
 "nbformat_minor": 2
}
