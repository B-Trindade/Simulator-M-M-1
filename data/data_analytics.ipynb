{
 "cells": [
  {
   "cell_type": "markdown",
   "metadata": {},
   "source": [
    "### File name to be used in this analysis:"
   ]
  },
  {
   "cell_type": "code",
   "execution_count": 236,
   "metadata": {},
   "outputs": [],
   "source": [
    "FILE_NAME = 'results_fcfs-400-0,4.csv'"
   ]
  },
  {
   "cell_type": "markdown",
   "metadata": {},
   "source": [
    "### Imports:"
   ]
  },
  {
   "cell_type": "code",
   "execution_count": 237,
   "metadata": {},
   "outputs": [],
   "source": [
    "import pandas as pd\n",
    "import numpy as np\n",
    "from math import sqrt\n",
    "import matplotlib.pyplot as plt\n",
    "from typing import List"
   ]
  },
  {
   "cell_type": "markdown",
   "metadata": {},
   "source": [
    "### Função para plotar gráficos, a qual pode ser usada ao fim desse notebook"
   ]
  },
  {
   "cell_type": "code",
   "execution_count": 254,
   "metadata": {},
   "outputs": [],
   "source": [
    "def plot(y: List[List], x: List = [], label: List = [], x_label: str = '', y_label: str = '') -> None:\n",
    "    plt.rcParams[\"figure.figsize\"] = [22.50, 7.50]\n",
    "    x = x if x else [k+1 for k in range(len(y[0]))]\n",
    "    label = label if label else ['']*len(y)\n",
    "    for lab, yi in zip(label, y):\n",
    "        plt.plot(x, yi, label=lab)\n",
    "    \n",
    "    plt.xlabel(x_label)\n",
    "    plt.ylabel(y_label)\n",
    "\n",
    "    plt.legend(bbox_to_anchor=(1.1, 1.0))\n",
    "    \n",
    "    plt.show()"
   ]
  },
  {
   "cell_type": "markdown",
   "metadata": {},
   "source": [
    "### Initializing our DataFrame"
   ]
  },
  {
   "cell_type": "code",
   "execution_count": 239,
   "metadata": {},
   "outputs": [],
   "source": [
    "df = pd.read_csv(FILE_NAME, delimiter=',', header=None, names=['batch', 'E_W', 'E_Nq'], skiprows=1)"
   ]
  },
  {
   "cell_type": "code",
   "execution_count": 240,
   "metadata": {},
   "outputs": [],
   "source": [
    "df['E_W'] = df['E_W'].map(lambda x: float(x))\n",
    "df['E_Nq'] = df['E_Nq'].map(lambda x: float(x))\n"
   ]
  },
  {
   "cell_type": "code",
   "execution_count": 241,
   "metadata": {},
   "outputs": [
    {
     "data": {
      "text/html": [
       "<div>\n",
       "<style scoped>\n",
       "    .dataframe tbody tr th:only-of-type {\n",
       "        vertical-align: middle;\n",
       "    }\n",
       "\n",
       "    .dataframe tbody tr th {\n",
       "        vertical-align: top;\n",
       "    }\n",
       "\n",
       "    .dataframe thead th {\n",
       "        text-align: right;\n",
       "    }\n",
       "</style>\n",
       "<table border=\"1\" class=\"dataframe\">\n",
       "  <thead>\n",
       "    <tr style=\"text-align: right;\">\n",
       "      <th></th>\n",
       "      <th>batch</th>\n",
       "      <th>E_W</th>\n",
       "      <th>E_Nq</th>\n",
       "    </tr>\n",
       "  </thead>\n",
       "  <tbody>\n",
       "    <tr>\n",
       "      <th>0</th>\n",
       "      <td>1</td>\n",
       "      <td>0.0</td>\n",
       "      <td>0.0</td>\n",
       "    </tr>\n",
       "    <tr>\n",
       "      <th>1</th>\n",
       "      <td>2</td>\n",
       "      <td>0.0</td>\n",
       "      <td>0.0</td>\n",
       "    </tr>\n",
       "    <tr>\n",
       "      <th>2</th>\n",
       "      <td>3</td>\n",
       "      <td>0.0</td>\n",
       "      <td>0.0</td>\n",
       "    </tr>\n",
       "    <tr>\n",
       "      <th>3</th>\n",
       "      <td>4</td>\n",
       "      <td>0.0</td>\n",
       "      <td>0.0</td>\n",
       "    </tr>\n",
       "    <tr>\n",
       "      <th>4</th>\n",
       "      <td>5</td>\n",
       "      <td>0.0</td>\n",
       "      <td>0.0</td>\n",
       "    </tr>\n",
       "    <tr>\n",
       "      <th>...</th>\n",
       "      <td>...</td>\n",
       "      <td>...</td>\n",
       "      <td>...</td>\n",
       "    </tr>\n",
       "    <tr>\n",
       "      <th>95</th>\n",
       "      <td>96</td>\n",
       "      <td>0.0</td>\n",
       "      <td>0.0</td>\n",
       "    </tr>\n",
       "    <tr>\n",
       "      <th>96</th>\n",
       "      <td>97</td>\n",
       "      <td>0.0</td>\n",
       "      <td>0.0</td>\n",
       "    </tr>\n",
       "    <tr>\n",
       "      <th>97</th>\n",
       "      <td>98</td>\n",
       "      <td>0.0</td>\n",
       "      <td>0.0</td>\n",
       "    </tr>\n",
       "    <tr>\n",
       "      <th>98</th>\n",
       "      <td>99</td>\n",
       "      <td>0.0</td>\n",
       "      <td>0.0</td>\n",
       "    </tr>\n",
       "    <tr>\n",
       "      <th>99</th>\n",
       "      <td>100</td>\n",
       "      <td>0.0</td>\n",
       "      <td>0.0</td>\n",
       "    </tr>\n",
       "  </tbody>\n",
       "</table>\n",
       "<p>100 rows × 3 columns</p>\n",
       "</div>"
      ],
      "text/plain": [
       "    batch  E_W  E_Nq\n",
       "0       1  0.0   0.0\n",
       "1       2  0.0   0.0\n",
       "2       3  0.0   0.0\n",
       "3       4  0.0   0.0\n",
       "4       5  0.0   0.0\n",
       "..    ...  ...   ...\n",
       "95     96  0.0   0.0\n",
       "96     97  0.0   0.0\n",
       "97     98  0.0   0.0\n",
       "98     99  0.0   0.0\n",
       "99    100  0.0   0.0\n",
       "\n",
       "[100 rows x 3 columns]"
      ]
     },
     "execution_count": 241,
     "metadata": {},
     "output_type": "execute_result"
    }
   ],
   "source": [
    "df"
   ]
  },
  {
   "cell_type": "markdown",
   "metadata": {},
   "source": [
    "### Mean for E[W] and E[Nq]:"
   ]
  },
  {
   "cell_type": "code",
   "execution_count": 242,
   "metadata": {},
   "outputs": [
    {
     "data": {
      "text/plain": [
       "[0.0, 0.0]"
      ]
     },
     "execution_count": 242,
     "metadata": {},
     "output_type": "execute_result"
    }
   ],
   "source": [
    "avgs = []\n",
    "avgs.append(df['E_W'].mean())\n",
    "avgs.append(df['E_Nq'].mean())\n",
    "avgs"
   ]
  },
  {
   "cell_type": "markdown",
   "metadata": {},
   "source": [
    "### Variance for E[W] and E[Nq]:"
   ]
  },
  {
   "cell_type": "code",
   "execution_count": 243,
   "metadata": {},
   "outputs": [
    {
     "data": {
      "text/plain": [
       "array([0., 0.])"
      ]
     },
     "metadata": {},
     "output_type": "display_data"
    }
   ],
   "source": [
    "soma = np.zeros(2)\n",
    "for index, row in df.iterrows():\n",
    "    soma[0] += (row['E_W'] - avgs[0])**2\n",
    "    soma[1] += (row['E_Nq'] - avgs[1])**2\n",
    "var = soma * 1/(len(df) - 1)\n",
    "display(var)"
   ]
  },
  {
   "cell_type": "markdown",
   "metadata": {},
   "source": [
    "### T-Student for mean(W) and mean(Nq):"
   ]
  },
  {
   "cell_type": "code",
   "execution_count": 244,
   "metadata": {},
   "outputs": [],
   "source": [
    "mean_width_ic = [sqrt(var[0])/sqrt(len(df)), sqrt(var[1])/sqrt(len(df))]\n",
    "mean_IC_w = (avgs[0] - 1.96*mean_width_ic[0], avgs[0] + 1.96*mean_width_ic[0])\n",
    "mean_IC_nq = (avgs[1] - 1.96*mean_width_ic[1], avgs[1] + 1.96*mean_width_ic[1])"
   ]
  },
  {
   "cell_type": "code",
   "execution_count": 245,
   "metadata": {},
   "outputs": [
    {
     "name": "stdout",
     "output_type": "stream",
     "text": [
      "IC da média de W: (0.0, 0.0)\n",
      "IC da média de Nq: (0.0, 0.0)\n"
     ]
    }
   ],
   "source": [
    "print(f\"IC da média de W: {mean_IC_w}\")\n",
    "print(f\"IC da média de Nq: {mean_IC_nq}\")"
   ]
  },
  {
   "cell_type": "code",
   "execution_count": 246,
   "metadata": {},
   "outputs": [
    {
     "name": "stdout",
     "output_type": "stream",
     "text": [
      "W mean precision: nan\n",
      "Nq mean precision: nan\n"
     ]
    },
    {
     "name": "stderr",
     "output_type": "stream",
     "text": [
      "<ipython-input-246-c575bad9e808>:1: RuntimeWarning: invalid value encountered in double_scalars\n",
      "  mean_accuracy_w = (mean_IC_w[1] - mean_IC_w[0])/(mean_IC_w[1] + mean_IC_w[0])\n",
      "<ipython-input-246-c575bad9e808>:2: RuntimeWarning: invalid value encountered in double_scalars\n",
      "  mean_accuracy_nq = (mean_IC_nq[1] - mean_IC_nq[0])/(mean_IC_nq[1] + mean_IC_nq[0])\n"
     ]
    }
   ],
   "source": [
    "mean_accuracy_w = (mean_IC_w[1] - mean_IC_w[0])/(mean_IC_w[1] + mean_IC_w[0])\n",
    "mean_accuracy_nq = (mean_IC_nq[1] - mean_IC_nq[0])/(mean_IC_nq[1] + mean_IC_nq[0])\n",
    "\n",
    "print(f\"W mean precision: {mean_accuracy_w}\\nNq mean precision: {mean_accuracy_nq}\")"
   ]
  },
  {
   "cell_type": "markdown",
   "metadata": {},
   "source": [
    "### Chi-Square for Var(W) and Var(Nq):"
   ]
  },
  {
   "cell_type": "code",
   "execution_count": 247,
   "metadata": {},
   "outputs": [],
   "source": [
    "X2right = 3357.7 # df = 3199 | p = 0.025\n",
    "X2left  = 3044.1 # df = 3199 | p = 0.975\n",
    "var_IC_w = (((len(df)-1) * var[0])/X2right, ((len(df)-1) * var[0])/X2left)\n",
    "var_IC_nq = (((len(df)-1) * var[1])/X2right, ((len(df)-1) * var[1])/X2left)"
   ]
  },
  {
   "cell_type": "code",
   "execution_count": 248,
   "metadata": {},
   "outputs": [
    {
     "name": "stdout",
     "output_type": "stream",
     "text": [
      "IC da variância de W: (0.0, 0.0)\n",
      "IC da variância de Nq: (0.0, 0.0)\n"
     ]
    }
   ],
   "source": [
    "print(f\"IC da variância de W: {var_IC_w}\")\n",
    "print(f\"IC da variância de Nq: {var_IC_nq}\")"
   ]
  },
  {
   "cell_type": "code",
   "execution_count": 249,
   "metadata": {},
   "outputs": [
    {
     "name": "stdout",
     "output_type": "stream",
     "text": [
      "W var precision: nan\n",
      "Nq var precision: nan\n"
     ]
    },
    {
     "name": "stderr",
     "output_type": "stream",
     "text": [
      "<ipython-input-249-57b5afa22bae>:1: RuntimeWarning: invalid value encountered in double_scalars\n",
      "  var_accuracy_w = (var_IC_w[1] - var_IC_w[0])/(var_IC_w[1] + var_IC_w[0])\n",
      "<ipython-input-249-57b5afa22bae>:2: RuntimeWarning: invalid value encountered in double_scalars\n",
      "  var_accuracy_nq = (var_IC_nq[1] - var_IC_nq[0])/(var_IC_nq[1] + var_IC_nq[0])\n"
     ]
    }
   ],
   "source": [
    "var_accuracy_w = (var_IC_w[1] - var_IC_w[0])/(var_IC_w[1] + var_IC_w[0])\n",
    "var_accuracy_nq = (var_IC_nq[1] - var_IC_nq[0])/(var_IC_nq[1] + var_IC_nq[0])\n",
    "\n",
    "print(f\"W var precision: {var_accuracy_w}\\nNq var precision: {var_accuracy_nq}\")"
   ]
  },
  {
   "cell_type": "markdown",
   "metadata": {},
   "source": [
    "### T-Student for Var(W) and Var(Nq): (TODO)"
   ]
  },
  {
   "cell_type": "code",
   "execution_count": 250,
   "metadata": {},
   "outputs": [
    {
     "name": "stderr",
     "output_type": "stream",
     "text": [
      "<ipython-input-250-31611d21d0e2>:1: RuntimeWarning: invalid value encountered in double_scalars\n",
      "  mean_width_ic_2 = [mean_width_ic[0]/avgs[0], mean_width_ic[1]/avgs[1]]\n"
     ]
    }
   ],
   "source": [
    "mean_width_ic_2 = [mean_width_ic[0]/avgs[0], mean_width_ic[1]/avgs[1]]\n",
    "\n",
    "var_IC_w_2 = (var[0] - 1.96*mean_width_ic_2[0], var[0] + 1.96*mean_width_ic_2[0])\n",
    "var_IC_nq_2 = (var[1] - 1.96*mean_width_ic_2[1], var[1] + 1.96*mean_width_ic_2[1])"
   ]
  },
  {
   "cell_type": "code",
   "execution_count": 251,
   "metadata": {},
   "outputs": [
    {
     "name": "stdout",
     "output_type": "stream",
     "text": [
      "IC da variância de W: (nan, nan)\n",
      "IC da variância de Nq: (nan, nan)\n"
     ]
    }
   ],
   "source": [
    "print(f\"IC da variância de W: {var_IC_w_2}\")\n",
    "print(f\"IC da variância de Nq: {var_IC_nq_2}\")"
   ]
  },
  {
   "cell_type": "code",
   "execution_count": 252,
   "metadata": {},
   "outputs": [
    {
     "name": "stdout",
     "output_type": "stream",
     "text": [
      "W var precision: nan\n",
      "Nq var precision: nan\n"
     ]
    }
   ],
   "source": [
    "var_accuracy_w_2 = (var_IC_w_2[1] - var_IC_w_2[0])/(var_IC_w_2[1] + var_IC_w_2[0])\n",
    "var_accuracy_nq_2 = (var_IC_nq_2[1] - var_IC_nq_2[0])/(var_IC_nq_2[1] + var_IC_nq_2[0])\n",
    "\n",
    "print(f\"W var precision: {var_accuracy_w_2}\\nNq var precision: {var_accuracy_nq_2}\")"
   ]
  },
  {
   "cell_type": "markdown",
   "metadata": {},
   "source": [
    "### Plotting desired data"
   ]
  },
  {
   "cell_type": "code",
   "execution_count": 256,
   "metadata": {},
   "outputs": [
    {
     "data": {
      "image/png": "[encoded data removed]",
      "text/plain": [
       "<Figure size 1620x540 with 1 Axes>"
      ]
     },
     "metadata": {
      "needs_background": "light"
     },
     "output_type": "display_data"
    }
   ],
   "source": [
    "# average_E_Nq = []\n",
    "# for i in range(1, len(df['E_Nq'])+1):\n",
    "#     average_E_Nq.append(sum(df['E_Nq'][:i])/i)\n",
    "\n",
    "plot([df['E_Nq'], df[]], label='E[Nq]', x_label='Batch', y_label='E[Nq], E[W], Var[W], E[Nq]')"
   ]
  }
 ],
 "metadata": {
  "kernelspec": {
   "display_name": "Python 3.8.2 32-bit",
   "language": "python",
   "name": "python3"
  },
  "language_info": {
   "codemirror_mode": {
    "name": "ipython",
    "version": 3
   },
   "file_extension": ".py",
   "mimetype": "text/x-python",
   "name": "python",
   "nbconvert_exporter": "python",
   "pygments_lexer": "ipython3",
   "version": "3.8.2"
  },
  "orig_nbformat": 4,
  "vscode": {
   "interpreter": {
    "hash": "6d074f277f70aa5a2a7ed6e7ffdb9ccaaf56333bcaecc33c5069b9d0e515dfab"
   }
  }
 },
 "nbformat": 4,
 "nbformat_minor": 2
}
