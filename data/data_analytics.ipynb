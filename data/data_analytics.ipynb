{
 "cells": [
  {
   "cell_type": "markdown",
   "metadata": {},
   "source": [
    "### File name to be used in this analysis"
   ]
  },
  {
   "cell_type": "code",
   "execution_count": 186,
   "metadata": {},
   "outputs": [],
   "source": [
    "FILE_NAME = 'results_fcfs-10000-0,6.csv'"
   ]
  },
  {
   "cell_type": "markdown",
   "metadata": {},
   "source": [
    "### Imports:"
   ]
  },
  {
   "cell_type": "code",
   "execution_count": 187,
   "metadata": {},
   "outputs": [],
   "source": [
    "import pandas as pd\n",
    "import numpy as np\n",
    "from math import sqrt\n",
    "import matplotlib.pyplot as plt\n",
    "from typing import List"
   ]
  },
  {
   "cell_type": "markdown",
   "metadata": {},
   "source": [
    "### Função para plotar gráficos, a qual pode ser usada ao fim desse notebook"
   ]
  },
  {
   "cell_type": "code",
   "execution_count": 188,
   "metadata": {},
   "outputs": [],
   "source": [
    "def plot(y: List[List], x: List = [], label: List = [], x_label: str = '', y_label: str = '') -> None:\n",
    "    plt.rcParams[\"figure.figsize\"] = [22.50, 7.50]\n",
    "    x = x if x else [k+1 for k in range(len(y[0]))]\n",
    "    label = label if label else ['']*len(y)\n",
    "    for lab, yi in zip(label, y):\n",
    "        plt.plot(x, yi, label=lab)\n",
    "    \n",
    "    plt.xlabel(x_label)\n",
    "    plt.ylabel(y_label)\n",
    "\n",
    "    plt.legend(bbox_to_anchor=(1.1, 1.0))\n",
    "    \n",
    "    plt.show()"
   ]
  },
  {
   "cell_type": "markdown",
   "metadata": {},
   "source": [
    "### Initializing our DataFrame"
   ]
  },
  {
   "cell_type": "code",
   "execution_count": 189,
   "metadata": {},
   "outputs": [],
   "source": [
    "df = pd.read_csv(FILE_NAME, delimiter=',', header=None, names=['batch', 'E_W', 'V_W', 'E_Nq', 'V_Nq'], skiprows=1)"
   ]
  },
  {
   "cell_type": "code",
   "execution_count": 190,
   "metadata": {},
   "outputs": [],
   "source": [
    "df['E_W'] = df['E_W'].map(lambda x: float(x))\n",
    "df['V_W'] = df['V_W'].map(lambda x: float(x))\n",
    "df['E_Nq'] = df['E_Nq'].map(lambda x: float(x))\n",
    "df['V_Nq'] = df['V_Nq'].map(lambda x: float(x))\n"
   ]
  },
  {
   "cell_type": "code",
   "execution_count": 191,
   "metadata": {},
   "outputs": [
    {
     "data": {
      "text/html": [
       "<div>\n",
       "<style scoped>\n",
       "    .dataframe tbody tr th:only-of-type {\n",
       "        vertical-align: middle;\n",
       "    }\n",
       "\n",
       "    .dataframe tbody tr th {\n",
       "        vertical-align: top;\n",
       "    }\n",
       "\n",
       "    .dataframe thead th {\n",
       "        text-align: right;\n",
       "    }\n",
       "</style>\n",
       "<table border=\"1\" class=\"dataframe\">\n",
       "  <thead>\n",
       "    <tr style=\"text-align: right;\">\n",
       "      <th></th>\n",
       "      <th>batch</th>\n",
       "      <th>E_W</th>\n",
       "      <th>V_W</th>\n",
       "      <th>E_Nq</th>\n",
       "      <th>V_Nq</th>\n",
       "    </tr>\n",
       "  </thead>\n",
       "  <tbody>\n",
       "    <tr>\n",
       "      <th>0</th>\n",
       "      <td>1</td>\n",
       "      <td>1.461949</td>\n",
       "      <td>5.498785</td>\n",
       "      <td>0.8697</td>\n",
       "      <td>2.944216</td>\n",
       "    </tr>\n",
       "    <tr>\n",
       "      <th>1</th>\n",
       "      <td>2</td>\n",
       "      <td>1.719312</td>\n",
       "      <td>7.262393</td>\n",
       "      <td>1.0709</td>\n",
       "      <td>4.007674</td>\n",
       "    </tr>\n",
       "    <tr>\n",
       "      <th>2</th>\n",
       "      <td>3</td>\n",
       "      <td>1.509989</td>\n",
       "      <td>5.242589</td>\n",
       "      <td>0.9165</td>\n",
       "      <td>2.810809</td>\n",
       "    </tr>\n",
       "    <tr>\n",
       "      <th>3</th>\n",
       "      <td>4</td>\n",
       "      <td>1.542075</td>\n",
       "      <td>5.920909</td>\n",
       "      <td>0.9168</td>\n",
       "      <td>2.950573</td>\n",
       "    </tr>\n",
       "    <tr>\n",
       "      <th>4</th>\n",
       "      <td>5</td>\n",
       "      <td>1.496679</td>\n",
       "      <td>5.222747</td>\n",
       "      <td>0.9112</td>\n",
       "      <td>2.781393</td>\n",
       "    </tr>\n",
       "    <tr>\n",
       "      <th>...</th>\n",
       "      <td>...</td>\n",
       "      <td>...</td>\n",
       "      <td>...</td>\n",
       "      <td>...</td>\n",
       "      <td>...</td>\n",
       "    </tr>\n",
       "    <tr>\n",
       "      <th>3195</th>\n",
       "      <td>3196</td>\n",
       "      <td>1.515833</td>\n",
       "      <td>5.214257</td>\n",
       "      <td>0.9005</td>\n",
       "      <td>2.561856</td>\n",
       "    </tr>\n",
       "    <tr>\n",
       "      <th>3196</th>\n",
       "      <td>3197</td>\n",
       "      <td>1.459960</td>\n",
       "      <td>4.824568</td>\n",
       "      <td>0.8761</td>\n",
       "      <td>2.488398</td>\n",
       "    </tr>\n",
       "    <tr>\n",
       "      <th>3197</th>\n",
       "      <td>3198</td>\n",
       "      <td>1.322036</td>\n",
       "      <td>4.204193</td>\n",
       "      <td>0.7513</td>\n",
       "      <td>1.924241</td>\n",
       "    </tr>\n",
       "    <tr>\n",
       "      <th>3198</th>\n",
       "      <td>3199</td>\n",
       "      <td>1.424324</td>\n",
       "      <td>4.470592</td>\n",
       "      <td>0.8470</td>\n",
       "      <td>2.457637</td>\n",
       "    </tr>\n",
       "    <tr>\n",
       "      <th>3199</th>\n",
       "      <td>3200</td>\n",
       "      <td>1.424506</td>\n",
       "      <td>4.684140</td>\n",
       "      <td>0.8479</td>\n",
       "      <td>2.485214</td>\n",
       "    </tr>\n",
       "  </tbody>\n",
       "</table>\n",
       "<p>3200 rows × 5 columns</p>\n",
       "</div>"
      ],
      "text/plain": [
       "      batch       E_W       V_W    E_Nq      V_Nq\n",
       "0         1  1.461949  5.498785  0.8697  2.944216\n",
       "1         2  1.719312  7.262393  1.0709  4.007674\n",
       "2         3  1.509989  5.242589  0.9165  2.810809\n",
       "3         4  1.542075  5.920909  0.9168  2.950573\n",
       "4         5  1.496679  5.222747  0.9112  2.781393\n",
       "...     ...       ...       ...     ...       ...\n",
       "3195   3196  1.515833  5.214257  0.9005  2.561856\n",
       "3196   3197  1.459960  4.824568  0.8761  2.488398\n",
       "3197   3198  1.322036  4.204193  0.7513  1.924241\n",
       "3198   3199  1.424324  4.470592  0.8470  2.457637\n",
       "3199   3200  1.424506  4.684140  0.8479  2.485214\n",
       "\n",
       "[3200 rows x 5 columns]"
      ]
     },
     "execution_count": 191,
     "metadata": {},
     "output_type": "execute_result"
    }
   ],
   "source": [
    "df"
   ]
  },
  {
   "cell_type": "markdown",
   "metadata": {},
   "source": [
    "### Mean for E[W] and E[Nq]:"
   ]
  },
  {
   "cell_type": "code",
   "execution_count": 192,
   "metadata": {},
   "outputs": [
    {
     "data": {
      "text/plain": [
       "[1.5003905841321603, 0.9007142812500001]"
      ]
     },
     "execution_count": 192,
     "metadata": {},
     "output_type": "execute_result"
    }
   ],
   "source": [
    "avgs = []\n",
    "avgs.append(df['E_W'].mean())\n",
    "avgs.append(df['E_Nq'].mean())\n",
    "avgs"
   ]
  },
  {
   "cell_type": "markdown",
   "metadata": {},
   "source": [
    "### T-Student for mean(W) and mean(Nq):"
   ]
  },
  {
   "cell_type": "code",
   "execution_count": null,
   "metadata": {},
   "outputs": [
    {
     "data": {
      "text/plain": [
       "array([0.08563008, 0.04769957])"
      ]
     },
     "metadata": {},
     "output_type": "display_data"
    }
   ],
   "source": [
    "soma = np.zeros(2)\n",
    "for index, row in df.iterrows():\n",
    "    soma[0] += (row['E_W'] - avgs[0])**2\n",
    "    soma[1] += (row['E_Nq'] - avgs[1])**2\n",
    "var = soma * 1/(len(df) - 1)\n",
    "display(var)"
   ]
  },
  {
   "cell_type": "code",
   "execution_count": 193,
   "metadata": {},
   "outputs": [],
   "source": [
    "mean_width_ic = [sqrt(var[0])/sqrt(len(df)), sqrt(var[1])/sqrt(len(df))]\n",
    "mean_IC_w = (avgs[0] - 1.96*mean_width_ic[0], avgs[0] + 1.96*mean_width_ic[0])\n",
    "mean_IC_nq = (avgs[1] - 1.96*mean_width_ic[1], avgs[1] + 1.96*mean_width_ic[1])"
   ]
  },
  {
   "cell_type": "code",
   "execution_count": 194,
   "metadata": {},
   "outputs": [
    {
     "name": "stdout",
     "output_type": "stream",
     "text": [
      "IC da média de W: (1.4902516044534821, 1.5105295638108385)\n",
      "IC da média de Nq: (0.893147027434577, 0.9082815350654232)\n"
     ]
    }
   ],
   "source": [
    "print(f\"IC da média de W: {mean_IC_w}\")\n",
    "print(f\"IC da média de Nq: {mean_IC_nq}\")"
   ]
  },
  {
   "cell_type": "code",
   "execution_count": 195,
   "metadata": {},
   "outputs": [
    {
     "name": "stdout",
     "output_type": "stream",
     "text": [
      "W mean precision: 0.676%\n",
      "Nq mean precision: 0.84%\n"
     ]
    }
   ],
   "source": [
    "mean_accuracy_w = (mean_IC_w[1] - mean_IC_w[0])/(mean_IC_w[1] + mean_IC_w[0])\n",
    "mean_accuracy_nq = (mean_IC_nq[1] - mean_IC_nq[0])/(mean_IC_nq[1] + mean_IC_nq[0])\n",
    "\n",
    "print(f\"W mean precision: {round(mean_accuracy_w*100,3)}%\\nNq mean precision: {round(mean_accuracy_nq*100,3)}%\")"
   ]
  },
  {
   "cell_type": "markdown",
   "metadata": {},
   "source": [
    "### Average Variance for E[W] and E[Nq]:"
   ]
  },
  {
   "cell_type": "code",
   "execution_count": 196,
   "metadata": {},
   "outputs": [
    {
     "name": "stdout",
     "output_type": "stream",
     "text": [
      "Var(W) = 5.240863602338525\n",
      "Var(Nq) = 2.7859965611217374\n"
     ]
    }
   ],
   "source": [
    "var_w = df['V_W'].mean()\n",
    "var_nq = df['V_Nq'].mean()\n",
    "\n",
    "print(f\"Var(W) = {var_w}\")\n",
    "print(f\"Var(Nq) = {var_nq}\")"
   ]
  },
  {
   "cell_type": "markdown",
   "metadata": {},
   "source": [
    "### Chi-Square for Var(W) and Var(Nq):"
   ]
  },
  {
   "cell_type": "code",
   "execution_count": 197,
   "metadata": {},
   "outputs": [],
   "source": [
    "X2right = 3357.7 # df = 3199 | p = 0.025\n",
    "X2left  = 3044.1 # df = 3199 | p = 0.975\n",
    "var_IC_w = (((len(df)-1) * var_w)/X2right, ((len(df)-1) * var_w)/X2left)\n",
    "var_IC_nq = (((len(df)-1) * var_nq)/X2right, ((len(df)-1) * var_nq)/X2left)"
   ]
  },
  {
   "cell_type": "code",
   "execution_count": 198,
   "metadata": {},
   "outputs": [
    {
     "name": "stdout",
     "output_type": "stream",
     "text": [
      "IC da variância de W: (4.99315682278969, 5.507546619322933)\n",
      "IC da variância de Nq: (2.6543178363249957, 2.927762885262783)\n"
     ]
    }
   ],
   "source": [
    "print(f\"IC da variância de W: {var_IC_w}\")\n",
    "print(f\"IC da variância de Nq: {var_IC_nq}\")"
   ]
  },
  {
   "cell_type": "code",
   "execution_count": 199,
   "metadata": {},
   "outputs": [
    {
     "name": "stdout",
     "output_type": "stream",
     "text": [
      "W var precision: 4.899%\n",
      "Nq var precision: 4.899%\n"
     ]
    }
   ],
   "source": [
    "var_accuracy_w = (var_IC_w[1] - var_IC_w[0])/(var_IC_w[1] + var_IC_w[0])\n",
    "var_accuracy_nq = (var_IC_nq[1] - var_IC_nq[0])/(var_IC_nq[1] + var_IC_nq[0])\n",
    "\n",
    "print(f\"W var precision: {round(var_accuracy_w*100,3)}%\\nNq var precision: {round(var_accuracy_nq*100,3)}%\")"
   ]
  },
  {
   "cell_type": "markdown",
   "metadata": {},
   "source": [
    "### T-Student for Var(W) and Var(Nq):"
   ]
  },
  {
   "cell_type": "code",
   "execution_count": 200,
   "metadata": {},
   "outputs": [],
   "source": [
    "var_IC_w_2 = (var_w - 1.96*mean_width_ic[0], var_w + 1.96*mean_width_ic[0])\n",
    "var_IC_nq_2 = (var_nq - 1.96*mean_width_ic[1], var_nq + 1.96*mean_width_ic[1])"
   ]
  },
  {
   "cell_type": "code",
   "execution_count": 201,
   "metadata": {},
   "outputs": [
    {
     "name": "stdout",
     "output_type": "stream",
     "text": [
      "IC da variância de W: (5.230724622659847, 5.251002582017203)\n",
      "IC da variância de Nq: (2.778429307306314, 2.7935638149371607)\n"
     ]
    }
   ],
   "source": [
    "print(f\"IC da variância de W: {var_IC_w_2}\")\n",
    "print(f\"IC da variância de Nq: {var_IC_nq_2}\")"
   ]
  },
  {
   "cell_type": "code",
   "execution_count": 202,
   "metadata": {},
   "outputs": [
    {
     "name": "stdout",
     "output_type": "stream",
     "text": [
      "W var precision: 0.193%\n",
      "Nq var precision: 0.272%\n"
     ]
    }
   ],
   "source": [
    "var_accuracy_w_2 = (var_IC_w_2[1] - var_IC_w_2[0])/(var_IC_w_2[1] + var_IC_w_2[0])\n",
    "var_accuracy_nq_2 = (var_IC_nq_2[1] - var_IC_nq_2[0])/(var_IC_nq_2[1] + var_IC_nq_2[0])\n",
    "\n",
    "print(f\"W var precision: {round(var_accuracy_w_2*100, 3)}%\\nNq var precision: {round(var_accuracy_nq_2*100, 3)}%\")"
   ]
  },
  {
   "cell_type": "markdown",
   "metadata": {},
   "source": [
    "### Plotting desired data"
   ]
  },
  {
   "cell_type": "code",
   "execution_count": 211,
   "metadata": {},
   "outputs": [
    {
     "data": {
      "image/png": "[encoded data removed]",
      "text/plain": [
       "<Figure size 1620x540 with 1 Axes>"
      ]
     },
     "metadata": {
      "needs_background": "light"
     },
     "output_type": "display_data"
    }
   ],
   "source": [
    "average_E_Nq = []\n",
    "average_E_W = []\n",
    "for i in range(1, len(df['E_Nq'])+1):\n",
    "    average_E_Nq.append(sum(df['E_Nq'][:i])/i)\n",
    "    average_E_W.append(sum(df['E_W'][:i])/i)\n",
    "\n",
    "plot([average_E_Nq[:100], average_E_W[:100]], label=['E[Nq]', 'E[W]'], x_label='Batch', y_label='E[Nq], E[W], Var[W], E[Nq]')"
   ]
  }
 ],
 "metadata": {
  "kernelspec": {
   "display_name": "Python 3.9.7 64-bit",
   "language": "python",
   "name": "python3"
  },
  "language_info": {
   "codemirror_mode": {
    "name": "ipython",
    "version": 3
   },
   "file_extension": ".py",
   "mimetype": "text/x-python",
   "name": "python",
   "nbconvert_exporter": "python",
   "pygments_lexer": "ipython3",
   "version": "3.9.7"
  },
  "orig_nbformat": 4,
  "vscode": {
   "interpreter": {
    "hash": "9eba946ae18c2fd52bd7ee0675653c9ba3cc2017ffd7c41149393a04d904615d"
   }
  }
 },
 "nbformat": 4,
 "nbformat_minor": 2
}
