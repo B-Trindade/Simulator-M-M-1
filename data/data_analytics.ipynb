{
 "cells": [
  {
   "cell_type": "code",
   "execution_count": 5,
   "metadata": {},
   "outputs": [],
   "source": [
    "import pandas as pd\n",
    "import numpy as np\n",
    "from math import sqrt"
   ]
  },
  {
   "cell_type": "code",
   "execution_count": 6,
   "metadata": {},
   "outputs": [
    {
     "name": "stderr",
     "output_type": "stream",
     "text": [
      "<ipython-input-6-65abecd2f338>:1: ParserWarning: Falling back to the 'python' engine because the 'c' engine does not support regex separators (separators > 1 char and different from '\\s+' are interpreted as regex); you can avoid this warning by specifying engine='python'.\n",
      "  df = pd.read_csv('results_fcfs-400-0,6.csv',\n"
     ]
    }
   ],
   "source": [
    "df = pd.read_csv('results_fcfs-400-0,6.csv',\n",
    " delimiter=', ', header=None, names=['batch', 'E_W', 'E_Nq', 'E_Ns'], skiprows=1)"
   ]
  },
  {
   "cell_type": "code",
   "execution_count": 7,
   "metadata": {},
   "outputs": [],
   "source": [
    "df['E_W'] = df['E_W'].map(lambda x: float(x))\n",
    "df['E_Nq'] = df['E_Nq'].map(lambda x: float(x))\n",
    "df['E_Ns'] = df['E_Ns'].map(lambda x: float(x))\n"
   ]
  },
  {
   "cell_type": "code",
   "execution_count": 8,
   "metadata": {},
   "outputs": [
    {
     "data": {
      "text/html": [
       "<div>\n",
       "<style scoped>\n",
       "    .dataframe tbody tr th:only-of-type {\n",
       "        vertical-align: middle;\n",
       "    }\n",
       "\n",
       "    .dataframe tbody tr th {\n",
       "        vertical-align: top;\n",
       "    }\n",
       "\n",
       "    .dataframe thead th {\n",
       "        text-align: right;\n",
       "    }\n",
       "</style>\n",
       "<table border=\"1\" class=\"dataframe\">\n",
       "  <thead>\n",
       "    <tr style=\"text-align: right;\">\n",
       "      <th></th>\n",
       "      <th>batch</th>\n",
       "      <th>E_W</th>\n",
       "      <th>E_Nq</th>\n",
       "      <th>E_Ns</th>\n",
       "    </tr>\n",
       "  </thead>\n",
       "  <tbody>\n",
       "    <tr>\n",
       "      <th>0</th>\n",
       "      <td>1</td>\n",
       "      <td>1.499104</td>\n",
       "      <td>0.9075</td>\n",
       "      <td>0.6000</td>\n",
       "    </tr>\n",
       "    <tr>\n",
       "      <th>1</th>\n",
       "      <td>2</td>\n",
       "      <td>1.901301</td>\n",
       "      <td>1.1675</td>\n",
       "      <td>0.6025</td>\n",
       "    </tr>\n",
       "    <tr>\n",
       "      <th>2</th>\n",
       "      <td>3</td>\n",
       "      <td>0.908558</td>\n",
       "      <td>0.4975</td>\n",
       "      <td>0.5875</td>\n",
       "    </tr>\n",
       "    <tr>\n",
       "      <th>3</th>\n",
       "      <td>4</td>\n",
       "      <td>1.167924</td>\n",
       "      <td>0.6575</td>\n",
       "      <td>0.5725</td>\n",
       "    </tr>\n",
       "    <tr>\n",
       "      <th>4</th>\n",
       "      <td>5</td>\n",
       "      <td>1.580338</td>\n",
       "      <td>1.0000</td>\n",
       "      <td>0.6150</td>\n",
       "    </tr>\n",
       "    <tr>\n",
       "      <th>...</th>\n",
       "      <td>...</td>\n",
       "      <td>...</td>\n",
       "      <td>...</td>\n",
       "      <td>...</td>\n",
       "    </tr>\n",
       "    <tr>\n",
       "      <th>3195</th>\n",
       "      <td>3196</td>\n",
       "      <td>1.055117</td>\n",
       "      <td>0.6100</td>\n",
       "      <td>0.5325</td>\n",
       "    </tr>\n",
       "    <tr>\n",
       "      <th>3196</th>\n",
       "      <td>3197</td>\n",
       "      <td>1.124668</td>\n",
       "      <td>0.6025</td>\n",
       "      <td>0.6000</td>\n",
       "    </tr>\n",
       "    <tr>\n",
       "      <th>3197</th>\n",
       "      <td>3198</td>\n",
       "      <td>1.230931</td>\n",
       "      <td>0.7075</td>\n",
       "      <td>0.5900</td>\n",
       "    </tr>\n",
       "    <tr>\n",
       "      <th>3198</th>\n",
       "      <td>3199</td>\n",
       "      <td>2.151419</td>\n",
       "      <td>1.4000</td>\n",
       "      <td>0.6500</td>\n",
       "    </tr>\n",
       "    <tr>\n",
       "      <th>3199</th>\n",
       "      <td>3200</td>\n",
       "      <td>1.246519</td>\n",
       "      <td>0.6950</td>\n",
       "      <td>0.5550</td>\n",
       "    </tr>\n",
       "  </tbody>\n",
       "</table>\n",
       "<p>3200 rows × 4 columns</p>\n",
       "</div>"
      ],
      "text/plain": [
       "      batch       E_W    E_Nq    E_Ns\n",
       "0         1  1.499104  0.9075  0.6000\n",
       "1         2  1.901301  1.1675  0.6025\n",
       "2         3  0.908558  0.4975  0.5875\n",
       "3         4  1.167924  0.6575  0.5725\n",
       "4         5  1.580338  1.0000  0.6150\n",
       "...     ...       ...     ...     ...\n",
       "3195   3196  1.055117  0.6100  0.5325\n",
       "3196   3197  1.124668  0.6025  0.6000\n",
       "3197   3198  1.230931  0.7075  0.5900\n",
       "3198   3199  2.151419  1.4000  0.6500\n",
       "3199   3200  1.246519  0.6950  0.5550\n",
       "\n",
       "[3200 rows x 4 columns]"
      ]
     },
     "execution_count": 8,
     "metadata": {},
     "output_type": "execute_result"
    }
   ],
   "source": [
    "df"
   ]
  },
  {
   "cell_type": "code",
   "execution_count": 9,
   "metadata": {},
   "outputs": [
    {
     "data": {
      "text/plain": [
       "[1.4935561744396033, 0.8965, 0.5994062499999999]"
      ]
     },
     "execution_count": 9,
     "metadata": {},
     "output_type": "execute_result"
    }
   ],
   "source": [
    "avgs = []\n",
    "avgs.append(df['E_W'].mean())\n",
    "avgs.append(df['E_Nq'].mean())\n",
    "avgs"
   ]
  },
  {
   "cell_type": "code",
   "execution_count": 10,
   "metadata": {},
   "outputs": [],
   "source": [
    "soma = np.array([0, 0])\n",
    "for index, row in df.iterrows():\n",
    "    soma[0] += (row['E_W'] - avgs[0])**2\n",
    "    soma[1] += (row['E_Nq'] - avgs[1])**2\n",
    "var = soma * 1/(len(df) - 1)"
   ]
  },
  {
   "cell_type": "code",
   "execution_count": 11,
   "metadata": {},
   "outputs": [],
   "source": [
    "mean_width_ic = [sqrt(var[0])/sqrt(len(df)), sqrt(var[1])/sqrt(len(df))]\n",
    "mean_IC_w = (avgs[0] - 1.96*mean_width_ic[0], avgs[0] + 1.96*mean_width_ic[0])\n",
    "mean_IC_nq = (avgs[1] - 1.96*mean_width_ic[1], avgs[1] + 1.96*mean_width_ic[1])"
   ]
  },
  {
   "cell_type": "code",
   "execution_count": 12,
   "metadata": {},
   "outputs": [
    {
     "name": "stdout",
     "output_type": "stream",
     "text": [
      "IC de W: (1.4848065573801492, 1.5023057914990574)\n",
      "IC de Nq: (0.8909189873314064, 0.9020810126685935)\n"
     ]
    }
   ],
   "source": [
    "print(f\"IC da média de W: {mean_IC_w}\")\n",
    "print(f\"IC da média de Nq: {mean_IC_nq}\")"
   ]
  },
  {
   "cell_type": "code",
   "execution_count": 13,
   "metadata": {},
   "outputs": [
    {
     "name": "stdout",
     "output_type": "stream",
     "text": [
      "W precision: 0.005858244376203015\n",
      "Nq precision: 0.0062253348227479825\n"
     ]
    }
   ],
   "source": [
    "mean_accuracy_w = (mean_IC_w[1] - mean_IC_w[0])/(mean_IC_w[1] + mean_IC_w[0])\n",
    "mean_accuracy_nq = (mean_IC_nq[1] - mean_IC_nq[0])/(mean_IC_nq[1] + mean_IC_nq[0])\n",
    "\n",
    "print(f\"W mean precision: {mean_accuracy_w}\\nNq mean precision: {mean_accuracy_nq}\")"
   ]
  },
  {
   "cell_type": "code",
   "execution_count": 14,
   "metadata": {},
   "outputs": [],
   "source": [
    "X2right = 19.023\n",
    "X2left = 2.7\n",
    "var_IC_w = (((len(df)-1) * var[0])/X2right, ((len(df)-1) * var[0])/X2left)\n",
    "var_IC_nq = (((len(df)-1) * var[1])/X2right, ((len(df)-1) * var[1])/X2left)"
   ]
  },
  {
   "cell_type": "code",
   "execution_count": 15,
   "metadata": {},
   "outputs": [
    {
     "name": "stdout",
     "output_type": "stream",
     "text": [
      "IC da variância de W: (10.723860589812332, 75.55555555555556)\n",
      "IC da variância de Nq: (4.3631393576197235, 30.74074074074074)\n"
     ]
    }
   ],
   "source": [
    "print(f\"IC da variância de W: {var_IC_w}\")\n",
    "print(f\"IC da variância de Nq: {var_IC_nq}\")"
   ]
  },
  {
   "cell_type": "code",
   "execution_count": 16,
   "metadata": {},
   "outputs": [
    {
     "name": "stdout",
     "output_type": "stream",
     "text": [
      "W var precision: 0.7514155503383511\n",
      "Nq var precision: 0.7514155503383511\n"
     ]
    }
   ],
   "source": [
    "var_accuracy_w = (var_IC_w[1] - var_IC_w[0])/(var_IC_w[1] + var_IC_w[0])\n",
    "var_accuracy_nq = (var_IC_nq[1] - var_IC_nq[0])/(var_IC_nq[1] + var_IC_nq[0])\n",
    "\n",
    "print(f\"W var precision: {var_accuracy_w}\\nNq var precision: {var_accuracy_nq}\")"
   ]
  }
 ],
 "metadata": {
  "kernelspec": {
   "display_name": "Python 3.8.2 32-bit",
   "language": "python",
   "name": "python3"
  },
  "language_info": {
   "codemirror_mode": {
    "name": "ipython",
    "version": 3
   },
   "file_extension": ".py",
   "mimetype": "text/x-python",
   "name": "python",
   "nbconvert_exporter": "python",
   "pygments_lexer": "ipython3",
   "version": "3.8.2"
  },
  "orig_nbformat": 4,
  "vscode": {
   "interpreter": {
    "hash": "6d074f277f70aa5a2a7ed6e7ffdb9ccaaf56333bcaecc33c5069b9d0e515dfab"
   }
  }
 },
 "nbformat": 4,
 "nbformat_minor": 2
}
