{
 "cells": [
  {
   "cell_type": "markdown",
   "metadata": {},
   "source": [
    "### File name to be used in this analysis"
   ]
  },
  {
   "cell_type": "code",
   "execution_count": 27,
   "metadata": {},
   "outputs": [],
   "source": [
    "FILE_NAME = 'results_fcfs-400-0,6.csv'"
   ]
  },
  {
   "cell_type": "markdown",
   "metadata": {},
   "source": [
    "### Imports:"
   ]
  },
  {
   "cell_type": "code",
   "execution_count": 28,
   "metadata": {},
   "outputs": [],
   "source": [
    "import pandas as pd\n",
    "import numpy as np\n",
    "from math import sqrt"
   ]
  },
  {
   "cell_type": "markdown",
   "metadata": {},
   "source": [
    "### Initializing our DataFrame"
   ]
  },
  {
   "cell_type": "code",
   "execution_count": 29,
   "metadata": {},
   "outputs": [],
   "source": [
    "df = pd.read_csv(FILE_NAME, delimiter=',', header=None, names=['batch', 'E_W', 'E_Nq', 'E_Ns'], skiprows=1)"
   ]
  },
  {
   "cell_type": "code",
   "execution_count": 30,
   "metadata": {},
   "outputs": [],
   "source": [
    "df['E_W'] = df['E_W'].map(lambda x: float(x))\n",
    "df['E_Nq'] = df['E_Nq'].map(lambda x: float(x))\n",
    "df['E_Ns'] = df['E_Ns'].map(lambda x: float(x))\n"
   ]
  },
  {
   "cell_type": "code",
   "execution_count": 31,
   "metadata": {},
   "outputs": [
    {
     "data": {
      "text/html": [
       "<div>\n",
       "<style scoped>\n",
       "    .dataframe tbody tr th:only-of-type {\n",
       "        vertical-align: middle;\n",
       "    }\n",
       "\n",
       "    .dataframe tbody tr th {\n",
       "        vertical-align: top;\n",
       "    }\n",
       "\n",
       "    .dataframe thead th {\n",
       "        text-align: right;\n",
       "    }\n",
       "</style>\n",
       "<table border=\"1\" class=\"dataframe\">\n",
       "  <thead>\n",
       "    <tr style=\"text-align: right;\">\n",
       "      <th></th>\n",
       "      <th>batch</th>\n",
       "      <th>E_W</th>\n",
       "      <th>E_Nq</th>\n",
       "      <th>E_Ns</th>\n",
       "    </tr>\n",
       "  </thead>\n",
       "  <tbody>\n",
       "    <tr>\n",
       "      <th>0</th>\n",
       "      <td>1</td>\n",
       "      <td>1.315852</td>\n",
       "      <td>0.8850</td>\n",
       "      <td>0.5800</td>\n",
       "    </tr>\n",
       "    <tr>\n",
       "      <th>1</th>\n",
       "      <td>2</td>\n",
       "      <td>1.283670</td>\n",
       "      <td>0.8875</td>\n",
       "      <td>0.6500</td>\n",
       "    </tr>\n",
       "    <tr>\n",
       "      <th>2</th>\n",
       "      <td>3</td>\n",
       "      <td>1.180521</td>\n",
       "      <td>0.6600</td>\n",
       "      <td>0.5800</td>\n",
       "    </tr>\n",
       "    <tr>\n",
       "      <th>3</th>\n",
       "      <td>4</td>\n",
       "      <td>1.326003</td>\n",
       "      <td>0.7425</td>\n",
       "      <td>0.6100</td>\n",
       "    </tr>\n",
       "    <tr>\n",
       "      <th>4</th>\n",
       "      <td>5</td>\n",
       "      <td>0.922376</td>\n",
       "      <td>0.4900</td>\n",
       "      <td>0.5275</td>\n",
       "    </tr>\n",
       "    <tr>\n",
       "      <th>...</th>\n",
       "      <td>...</td>\n",
       "      <td>...</td>\n",
       "      <td>...</td>\n",
       "      <td>...</td>\n",
       "    </tr>\n",
       "    <tr>\n",
       "      <th>95</th>\n",
       "      <td>96</td>\n",
       "      <td>1.553792</td>\n",
       "      <td>0.8675</td>\n",
       "      <td>0.5950</td>\n",
       "    </tr>\n",
       "    <tr>\n",
       "      <th>96</th>\n",
       "      <td>97</td>\n",
       "      <td>1.039021</td>\n",
       "      <td>0.5475</td>\n",
       "      <td>0.5800</td>\n",
       "    </tr>\n",
       "    <tr>\n",
       "      <th>97</th>\n",
       "      <td>98</td>\n",
       "      <td>1.332979</td>\n",
       "      <td>0.8400</td>\n",
       "      <td>0.5650</td>\n",
       "    </tr>\n",
       "    <tr>\n",
       "      <th>98</th>\n",
       "      <td>99</td>\n",
       "      <td>1.275853</td>\n",
       "      <td>0.6625</td>\n",
       "      <td>0.6000</td>\n",
       "    </tr>\n",
       "    <tr>\n",
       "      <th>99</th>\n",
       "      <td>100</td>\n",
       "      <td>1.540478</td>\n",
       "      <td>0.9525</td>\n",
       "      <td>0.6250</td>\n",
       "    </tr>\n",
       "  </tbody>\n",
       "</table>\n",
       "<p>100 rows × 4 columns</p>\n",
       "</div>"
      ],
      "text/plain": [
       "    batch       E_W    E_Nq    E_Ns\n",
       "0       1  1.315852  0.8850  0.5800\n",
       "1       2  1.283670  0.8875  0.6500\n",
       "2       3  1.180521  0.6600  0.5800\n",
       "3       4  1.326003  0.7425  0.6100\n",
       "4       5  0.922376  0.4900  0.5275\n",
       "..    ...       ...     ...     ...\n",
       "95     96  1.553792  0.8675  0.5950\n",
       "96     97  1.039021  0.5475  0.5800\n",
       "97     98  1.332979  0.8400  0.5650\n",
       "98     99  1.275853  0.6625  0.6000\n",
       "99    100  1.540478  0.9525  0.6250\n",
       "\n",
       "[100 rows x 4 columns]"
      ]
     },
     "execution_count": 31,
     "metadata": {},
     "output_type": "execute_result"
    }
   ],
   "source": [
    "df"
   ]
  },
  {
   "cell_type": "markdown",
   "metadata": {},
   "source": [
    "### Mean for E[W] and E[Nq]:"
   ]
  },
  {
   "cell_type": "code",
   "execution_count": 32,
   "metadata": {},
   "outputs": [
    {
     "data": {
      "text/plain": [
       "[1.5056146525417702, 0.9063500000000001]"
      ]
     },
     "execution_count": 32,
     "metadata": {},
     "output_type": "execute_result"
    }
   ],
   "source": [
    "avgs = []\n",
    "avgs.append(df['E_W'].mean())\n",
    "avgs.append(df['E_Nq'].mean())\n",
    "avgs"
   ]
  },
  {
   "cell_type": "markdown",
   "metadata": {},
   "source": [
    "### Variance for E[W] and E[Nq]:"
   ]
  },
  {
   "cell_type": "code",
   "execution_count": 33,
   "metadata": {},
   "outputs": [
    {
     "data": {
      "text/plain": [
       "array([0.24093599, 0.13931066])"
      ]
     },
     "metadata": {},
     "output_type": "display_data"
    }
   ],
   "source": [
    "soma = np.zeros(2)\n",
    "for index, row in df.iterrows():\n",
    "    soma[0] += (row['E_W'] - avgs[0])**2\n",
    "    soma[1] += (row['E_Nq'] - avgs[1])**2\n",
    "var = soma * 1/(len(df) - 1)\n",
    "display(var)"
   ]
  },
  {
   "cell_type": "markdown",
   "metadata": {},
   "source": [
    "### T-Student for mean(W) and mean(Nq):"
   ]
  },
  {
   "cell_type": "code",
   "execution_count": 34,
   "metadata": {},
   "outputs": [],
   "source": [
    "mean_width_ic = [sqrt(var[0])/sqrt(len(df)), sqrt(var[1])/sqrt(len(df))]\n",
    "mean_IC_w = (avgs[0] - 1.96*mean_width_ic[0], avgs[0] + 1.96*mean_width_ic[0])\n",
    "mean_IC_nq = (avgs[1] - 1.96*mean_width_ic[1], avgs[1] + 1.96*mean_width_ic[1])"
   ]
  },
  {
   "cell_type": "code",
   "execution_count": 35,
   "metadata": {},
   "outputs": [
    {
     "name": "stdout",
     "output_type": "stream",
     "text": [
      "IC da média de W: (1.4094076006322922, 1.6018217044512482)\n",
      "IC da média de Nq: (0.8331942874435881, 0.9795057125564121)\n"
     ]
    }
   ],
   "source": [
    "print(f\"IC da média de W: {mean_IC_w}\")\n",
    "print(f\"IC da média de Nq: {mean_IC_nq}\")"
   ]
  },
  {
   "cell_type": "code",
   "execution_count": 36,
   "metadata": {},
   "outputs": [
    {
     "name": "stdout",
     "output_type": "stream",
     "text": [
      "W mean precision: 0.0638988546950322\n",
      "Nq mean precision: 0.08071463844697076\n"
     ]
    }
   ],
   "source": [
    "mean_accuracy_w = (mean_IC_w[1] - mean_IC_w[0])/(mean_IC_w[1] + mean_IC_w[0])\n",
    "mean_accuracy_nq = (mean_IC_nq[1] - mean_IC_nq[0])/(mean_IC_nq[1] + mean_IC_nq[0])\n",
    "\n",
    "print(f\"W mean precision: {mean_accuracy_w}\\nNq mean precision: {mean_accuracy_nq}\")"
   ]
  },
  {
   "cell_type": "markdown",
   "metadata": {},
   "source": [
    "### Chi-Square for Var(W) and Var(Nq):"
   ]
  },
  {
   "cell_type": "code",
   "execution_count": 37,
   "metadata": {},
   "outputs": [],
   "source": [
    "X2right = 3357.7 # df = 3199 | p = 0.025\n",
    "X2left  = 3044.1 # df = 3199 | p = 0.975\n",
    "var_IC_w = (((len(df)-1) * var[0])/X2right, ((len(df)-1) * var[0])/X2left)\n",
    "var_IC_nq = (((len(df)-1) * var[1])/X2right, ((len(df)-1) * var[1])/X2left)"
   ]
  },
  {
   "cell_type": "code",
   "execution_count": 38,
   "metadata": {},
   "outputs": [
    {
     "name": "stdout",
     "output_type": "stream",
     "text": [
      "IC da variância de W: (0.007103869497352508, 0.00783570270728968)\n",
      "IC da variância de Nq: (0.004107500744557288, 0.004530651177687989)\n"
     ]
    }
   ],
   "source": [
    "print(f\"IC da variância de W: {var_IC_w}\")\n",
    "print(f\"IC da variância de Nq: {var_IC_nq}\")"
   ]
  },
  {
   "cell_type": "code",
   "execution_count": 39,
   "metadata": {},
   "outputs": [
    {
     "name": "stdout",
     "output_type": "stream",
     "text": [
      "W var precision: 0.048986222624886736\n",
      "Nq var precision: 0.04898622262488672\n"
     ]
    }
   ],
   "source": [
    "var_accuracy_w = (var_IC_w[1] - var_IC_w[0])/(var_IC_w[1] + var_IC_w[0])\n",
    "var_accuracy_nq = (var_IC_nq[1] - var_IC_nq[0])/(var_IC_nq[1] + var_IC_nq[0])\n",
    "\n",
    "print(f\"W var precision: {var_accuracy_w}\\nNq var precision: {var_accuracy_nq}\")"
   ]
  },
  {
   "cell_type": "markdown",
   "metadata": {},
   "source": [
    "### T-Student for Var(W) and Var(Nq):"
   ]
  },
  {
   "cell_type": "code",
   "execution_count": 40,
   "metadata": {},
   "outputs": [],
   "source": [
    "mean_width_ic_2 = [mean_width_ic[0]/avgs[0], mean_width_ic[1]/avgs[1]]\n",
    "\n",
    "var_IC_w_2 = (var[0] - 1.96*mean_width_ic_2[0], var[0] + 1.96*mean_width_ic_2[0])\n",
    "var_IC_nq_2 = (var[1] - 1.96*mean_width_ic_2[1], var[1] + 1.96*mean_width_ic_2[1])"
   ]
  },
  {
   "cell_type": "code",
   "execution_count": 41,
   "metadata": {},
   "outputs": [
    {
     "name": "stdout",
     "output_type": "stream",
     "text": [
      "IC da variância de W: (0.17703713127729626, 0.30483484066736055)\n",
      "IC da variância de Nq: (0.05859602064393843, 0.22002529753787986)\n"
     ]
    }
   ],
   "source": [
    "print(f\"IC da variância de W: {var_IC_w_2}\")\n",
    "print(f\"IC da variância de Nq: {var_IC_nq_2}\")"
   ]
  },
  {
   "cell_type": "code",
   "execution_count": 42,
   "metadata": {},
   "outputs": [
    {
     "name": "stdout",
     "output_type": "stream",
     "text": [
      "W var precision: 0.26521092080603914\n",
      "Nq var precision: 0.5793859491706176\n"
     ]
    }
   ],
   "source": [
    "var_accuracy_w_2 = (var_IC_w_2[1] - var_IC_w_2[0])/(var_IC_w_2[1] + var_IC_w_2[0])\n",
    "var_accuracy_nq_2 = (var_IC_nq_2[1] - var_IC_nq_2[0])/(var_IC_nq_2[1] + var_IC_nq_2[0])\n",
    "\n",
    "print(f\"W var precision: {var_accuracy_w_2}\\nNq var precision: {var_accuracy_nq_2}\")"
   ]
  }
 ],
 "metadata": {
  "kernelspec": {
   "display_name": "Python 3.8.2 32-bit",
   "language": "python",
   "name": "python3"
  },
  "language_info": {
   "codemirror_mode": {
    "name": "ipython",
    "version": 3
   },
   "file_extension": ".py",
   "mimetype": "text/x-python",
   "name": "python",
   "nbconvert_exporter": "python",
   "pygments_lexer": "ipython3",
   "version": "3.8.2"
  },
  "orig_nbformat": 4,
  "vscode": {
   "interpreter": {
    "hash": "6d074f277f70aa5a2a7ed6e7ffdb9ccaaf56333bcaecc33c5069b9d0e515dfab"
   }
  }
 },
 "nbformat": 4,
 "nbformat_minor": 2
}
