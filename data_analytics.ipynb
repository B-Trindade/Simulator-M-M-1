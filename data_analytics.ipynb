{
 "cells": [
  {
   "cell_type": "code",
   "execution_count": 7,
   "metadata": {},
   "outputs": [],
   "source": [
    "import pandas as pd\n",
    "import numpy as np"
   ]
  },
  {
   "cell_type": "code",
   "execution_count": 8,
   "metadata": {},
   "outputs": [
    {
     "name": "stderr",
     "output_type": "stream",
     "text": [
      "<ipython-input-8-65abecd2f338>:1: ParserWarning: Falling back to the 'python' engine because the 'c' engine does not support regex separators (separators > 1 char and different from '\\s+' are interpreted as regex); you can avoid this warning by specifying engine='python'.\n",
      "  df = pd.read_csv('results_fcfs-400-0,6.csv',\n"
     ]
    }
   ],
   "source": [
    "df = pd.read_csv('results_fcfs-400-0,6.csv',\n",
    " delimiter=', ', header=None, names=['batch', 'E_W', 'E_Nq', 'E_Ns'], skiprows=1)"
   ]
  },
  {
   "cell_type": "code",
   "execution_count": 20,
   "metadata": {},
   "outputs": [],
   "source": [
    "df['E_W'] = df['E_W'].map(lambda x: float(x))\n",
    "df['E_Nq'] = df['E_Nq'].map(lambda x: float(x))\n",
    "df['E_Ns'] = df['E_Ns'].map(lambda x: float(x))\n"
   ]
  },
  {
   "cell_type": "code",
   "execution_count": 21,
   "metadata": {},
   "outputs": [
    {
     "data": {
      "text/html": [
       "<div>\n",
       "<style scoped>\n",
       "    .dataframe tbody tr th:only-of-type {\n",
       "        vertical-align: middle;\n",
       "    }\n",
       "\n",
       "    .dataframe tbody tr th {\n",
       "        vertical-align: top;\n",
       "    }\n",
       "\n",
       "    .dataframe thead th {\n",
       "        text-align: right;\n",
       "    }\n",
       "</style>\n",
       "<table border=\"1\" class=\"dataframe\">\n",
       "  <thead>\n",
       "    <tr style=\"text-align: right;\">\n",
       "      <th></th>\n",
       "      <th>batch</th>\n",
       "      <th>E_W</th>\n",
       "      <th>E_Nq</th>\n",
       "      <th>E_Ns</th>\n",
       "    </tr>\n",
       "  </thead>\n",
       "  <tbody>\n",
       "    <tr>\n",
       "      <th>0</th>\n",
       "      <td>1</td>\n",
       "      <td>1.406293</td>\n",
       "      <td>0.7325</td>\n",
       "      <td>0.6050</td>\n",
       "    </tr>\n",
       "    <tr>\n",
       "      <th>1</th>\n",
       "      <td>2</td>\n",
       "      <td>0.923679</td>\n",
       "      <td>0.4925</td>\n",
       "      <td>0.4850</td>\n",
       "    </tr>\n",
       "    <tr>\n",
       "      <th>2</th>\n",
       "      <td>3</td>\n",
       "      <td>1.669179</td>\n",
       "      <td>0.9725</td>\n",
       "      <td>0.6600</td>\n",
       "    </tr>\n",
       "    <tr>\n",
       "      <th>3</th>\n",
       "      <td>4</td>\n",
       "      <td>1.407936</td>\n",
       "      <td>0.8950</td>\n",
       "      <td>0.6225</td>\n",
       "    </tr>\n",
       "    <tr>\n",
       "      <th>4</th>\n",
       "      <td>5</td>\n",
       "      <td>1.329512</td>\n",
       "      <td>0.8050</td>\n",
       "      <td>0.6125</td>\n",
       "    </tr>\n",
       "    <tr>\n",
       "      <th>...</th>\n",
       "      <td>...</td>\n",
       "      <td>...</td>\n",
       "      <td>...</td>\n",
       "      <td>...</td>\n",
       "    </tr>\n",
       "    <tr>\n",
       "      <th>3195</th>\n",
       "      <td>3196</td>\n",
       "      <td>2.454328</td>\n",
       "      <td>1.3650</td>\n",
       "      <td>0.6325</td>\n",
       "    </tr>\n",
       "    <tr>\n",
       "      <th>3196</th>\n",
       "      <td>3197</td>\n",
       "      <td>1.097265</td>\n",
       "      <td>0.6125</td>\n",
       "      <td>0.5600</td>\n",
       "    </tr>\n",
       "    <tr>\n",
       "      <th>3197</th>\n",
       "      <td>3198</td>\n",
       "      <td>1.395174</td>\n",
       "      <td>0.8100</td>\n",
       "      <td>0.5850</td>\n",
       "    </tr>\n",
       "    <tr>\n",
       "      <th>3198</th>\n",
       "      <td>3199</td>\n",
       "      <td>0.895653</td>\n",
       "      <td>0.5075</td>\n",
       "      <td>0.5625</td>\n",
       "    </tr>\n",
       "    <tr>\n",
       "      <th>3199</th>\n",
       "      <td>3200</td>\n",
       "      <td>2.016078</td>\n",
       "      <td>1.2750</td>\n",
       "      <td>0.6325</td>\n",
       "    </tr>\n",
       "  </tbody>\n",
       "</table>\n",
       "<p>3200 rows × 4 columns</p>\n",
       "</div>"
      ],
      "text/plain": [
       "      batch       E_W    E_Nq    E_Ns\n",
       "0         1  1.406293  0.7325  0.6050\n",
       "1         2  0.923679  0.4925  0.4850\n",
       "2         3  1.669179  0.9725  0.6600\n",
       "3         4  1.407936  0.8950  0.6225\n",
       "4         5  1.329512  0.8050  0.6125\n",
       "...     ...       ...     ...     ...\n",
       "3195   3196  2.454328  1.3650  0.6325\n",
       "3196   3197  1.097265  0.6125  0.5600\n",
       "3197   3198  1.395174  0.8100  0.5850\n",
       "3198   3199  0.895653  0.5075  0.5625\n",
       "3199   3200  2.016078  1.2750  0.6325\n",
       "\n",
       "[3200 rows x 4 columns]"
      ]
     },
     "execution_count": 21,
     "metadata": {},
     "output_type": "execute_result"
    }
   ],
   "source": [
    "df"
   ]
  },
  {
   "cell_type": "code",
   "execution_count": 23,
   "metadata": {},
   "outputs": [
    {
     "data": {
      "text/plain": [
       "[1.494011630865443, 0.8989500000000001, 0.59959921875]"
      ]
     },
     "execution_count": 23,
     "metadata": {},
     "output_type": "execute_result"
    }
   ],
   "source": [
    "avgs = []\n",
    "avgs.append(df['E_W'].mean())\n",
    "avgs.append(df['E_Nq'].mean())\n",
    "avgs.append(df['E_Ns'].mean())\n",
    "avgs"
   ]
  },
  {
   "cell_type": "code",
   "execution_count": 32,
   "metadata": {},
   "outputs": [],
   "source": [
    "soma = np.array([0, 0])\n",
    "for index, row in df.iterrows():\n",
    "    soma[0] += (row['E_W'] - avgs[0])**2\n",
    "    soma[1] += (row['E_Nq'] - avgs[1])**2\n",
    "var = soma * 1/(len(df) - 1)"
   ]
  },
  {
   "cell_type": "code",
   "execution_count": 41,
   "metadata": {},
   "outputs": [],
   "source": [
    "from math import sqrt\n",
    "width_ic = [sqrt(var[0])/sqrt(len(df)), sqrt(var[1])/sqrt(len(df))]\n",
    "IC_w = (avgs[0] - 1.96*width_ic[0], avgs[0] + 1.96*width_ic[0])\n",
    "IC_nq = (avgs[1] - 1.96*width_ic[1], avgs[1] + 1.96*width_ic[1])"
   ]
  },
  {
   "cell_type": "code",
   "execution_count": 45,
   "metadata": {},
   "outputs": [
    {
     "name": "stdout",
     "output_type": "stream",
     "text": [
      "IC de W: (1.4849667633700756, 1.5030564983608103)\n",
      "IC de Nq: (0.8930741882166134, 0.9048258117833868)\n"
     ]
    }
   ],
   "source": [
    "print(f\"IC de W: {IC_w}\")\n",
    "print(f\"IC de Nq: {IC_nq}\")"
   ]
  },
  {
   "cell_type": "code",
   "execution_count": 48,
   "metadata": {},
   "outputs": [
    {
     "name": "stdout",
     "output_type": "stream",
     "text": [
      "W precision: 0.00605408104495673\n",
      "Nq precision: 0.006536305449009063\n"
     ]
    }
   ],
   "source": [
    "accuracy_w = (IC_w[1] - IC_w[0])/(IC_w[1] + IC_w[0])\n",
    "accuracy_nq = (IC_nq[1] - IC_nq[0])/(IC_nq[1] + IC_nq[0])\n",
    "\n",
    "print(f\"W precision: {accuracy_w}\\nNq precision: {accuracy_nq}\")"
   ]
  }
 ],
 "metadata": {
  "kernelspec": {
   "display_name": "Python 3.9.2 64-bit",
   "language": "python",
   "name": "python3"
  },
  "language_info": {
   "codemirror_mode": {
    "name": "ipython",
    "version": 3
   },
   "file_extension": ".py",
   "mimetype": "text/x-python",
   "name": "python",
   "nbconvert_exporter": "python",
   "pygments_lexer": "ipython3",
   "version": "3.9.2"
  },
  "orig_nbformat": 4,
  "vscode": {
   "interpreter": {
    "hash": "db27ec967b7890ef943434e5583fe1b2ac9bbb8a72dfe09d4fc2135c2140f530"
   }
  }
 },
 "nbformat": 4,
 "nbformat_minor": 2
}
